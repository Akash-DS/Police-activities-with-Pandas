{
 "cells": [
  {
   "cell_type": "code",
   "execution_count": 5,
   "metadata": {},
   "outputs": [],
   "source": [
    "# import necessary packages\n",
    "\n",
    "import pandas as pd\n",
    "import numpy as np\n",
    "import matplotlib\n",
    "from matplotlib import pyplot as plt\n",
    "%matplotlib inline\n",
    "import os\n"
   ]
  },
  {
   "cell_type": "code",
   "execution_count": 1,
   "metadata": {},
   "outputs": [],
   "source": [
    "# Load the dataset\n",
    "# Data is about Traffic stops by police officers\n",
    "# Each row represent single traffic stop\n"
   ]
  },
  {
   "cell_type": "code",
   "execution_count": 3,
   "metadata": {},
   "outputs": [],
   "source": [
    "# check the shape of dataset"
   ]
  },
  {
   "cell_type": "code",
   "execution_count": 4,
   "metadata": {},
   "outputs": [],
   "source": [
    "# check the statistical values of columns in dataset\n"
   ]
  },
  {
   "cell_type": "code",
   "execution_count": 5,
   "metadata": {},
   "outputs": [],
   "source": [
    "# Locate the missing values\n",
    "\n",
    "\n",
    "# Drop the column county_name\n"
   ]
  },
  {
   "cell_type": "code",
   "execution_count": 6,
   "metadata": {},
   "outputs": [],
   "source": [
    "# Drop the rows for which stop_date and stop_time have NA values.\n"
   ]
  },
  {
   "cell_type": "code",
   "execution_count": 7,
   "metadata": {},
   "outputs": [],
   "source": [
    "# count the number/percentage of missing values in each column\n"
   ]
  },
  {
   "cell_type": "code",
   "execution_count": 8,
   "metadata": {},
   "outputs": [],
   "source": [
    "# When you know that a specific column will be critical to your analysis, and only a small fraction of rows are missing a \n",
    "# value in that column, it often makes sense to remove those rows from the dataset.\n",
    "\n",
    "# During this course, the driver_gender column will be critical to many of your analyses. Because only a small fraction of \n",
    "# rows are missing driver_gender, we'll drop those rows from the dataset.\n",
    "\n",
    "# Drop the rows having missing values in driver_gender column.\n",
    "\n"
   ]
  },
  {
   "cell_type": "code",
   "execution_count": 9,
   "metadata": {},
   "outputs": [],
   "source": [
    "# check the datatype of all columns\n"
   ]
  },
  {
   "cell_type": "code",
   "execution_count": 91,
   "metadata": {},
   "outputs": [],
   "source": [
    "# change the is_arrested column to boolean type\n"
   ]
  },
  {
   "cell_type": "code",
   "execution_count": 120,
   "metadata": {},
   "outputs": [],
   "source": [
    "# Combine the stop_date and stop_time in one field(stop_date_time) and change to date time format\n"
   ]
  },
  {
   "cell_type": "code",
   "execution_count": 11,
   "metadata": {},
   "outputs": [],
   "source": [
    "# Begin analysis\n",
    "# Do the genders commit different violations? Analyse it.\n",
    "\n",
    "# check the count of uniques values of stop_outcome field and Express counts as proportions.\n"
   ]
  },
  {
   "cell_type": "code",
   "execution_count": 12,
   "metadata": {},
   "outputs": [],
   "source": [
    "# check the Driver's race and stop outcome for race \"White\".\n",
    "\n",
    "# Check for white race\n",
    "\n"
   ]
  },
  {
   "cell_type": "code",
   "execution_count": 13,
   "metadata": {},
   "outputs": [],
   "source": [
    "# Compare violations by gender.\n",
    "# Do we see more violation  by male\n"
   ]
  },
  {
   "cell_type": "code",
   "execution_count": 150,
   "metadata": {},
   "outputs": [],
   "source": [
    "# Does gender affect who gets a ticket for speeding?\n",
    "# Comparing speeding outcomes by gender\n",
    "# When a driver is pulled over for speeding, many people believe that gender has an impact on whether the driver will \n",
    "# receive a ticket or a warning. Can you find evidence of this in the dataset?\n",
    "\n"
   ]
  },
  {
   "cell_type": "code",
   "execution_count": 14,
   "metadata": {},
   "outputs": [],
   "source": [
    "# Does gender affect whose vehicle is searched?\n"
   ]
  },
  {
   "cell_type": "code",
   "execution_count": 15,
   "metadata": {},
   "outputs": [],
   "source": [
    "# What is arrest rate in every district\n",
    "# What is arrest rate distribution of gender in district\n"
   ]
  },
  {
   "cell_type": "code",
   "execution_count": 16,
   "metadata": {},
   "outputs": [],
   "source": [
    "\n",
    "# to calculate the search rate for each combination of gender and violation. \n",
    "# Are males and females searched at about the same rate for each violation?\n"
   ]
  },
  {
   "cell_type": "code",
   "execution_count": 256,
   "metadata": {},
   "outputs": [],
   "source": [
    "# Does gender affect who is frisked during a search?\n",
    "\n",
    "# True mean Inventory was done, False means it was not.\n",
    "\n",
    "# CLaculate the Inventory rate. FIrst find all rows with search done.\n"
   ]
  },
  {
   "cell_type": "code",
   "execution_count": 17,
   "metadata": {},
   "outputs": [],
   "source": [
    "# Counting protective frisks\n",
    "# During a vehicle search, the police officer may pat down the driver to check if they have a weapon. \n",
    "# This is known as a \"protective frisk.\"\n",
    "# In this exercise, you'll first check to see how many times \"Protective Frisk\" was the only search type. \n",
    "# Then, you'll use a string method to locate all instances in which the driver was frisked.\n",
    "\n"
   ]
  },
  {
   "cell_type": "markdown",
   "metadata": {},
   "source": [
    "# Visual exploratory data analysis\n",
    "Are you more likely to get arrested at a certain time of day? Are drug-related stops on the rise? \n",
    "In this chapter, you will answer these and other questions by analyzing the dataset visually, since plots can help you \n",
    "to understand trends in a way that examining the raw data cannot.\n"
   ]
  },
  {
   "cell_type": "code",
   "execution_count": 18,
   "metadata": {},
   "outputs": [],
   "source": [
    "# Calculating the hourly arrest rate\n",
    "\n",
    "# When a police officer stops a driver, a small percentage of those stops ends in an arrest. \n",
    "# This is known as the arrest rate. In this exercise, you'll find out whether the arrest rate varies by time of day.\n",
    "\n",
    "# Arrest rate is 9%.\n",
    "\n",
    "\n",
    "# Hourly arrest rate. Make new dataframe with hourly arrest rate wih hours and rate of is_arrested.\n"
   ]
  },
  {
   "cell_type": "code",
   "execution_count": 19,
   "metadata": {},
   "outputs": [],
   "source": [
    "# Plotting the hourly arrest rate\n",
    "# In this exercise, you'll create a line plot from the hourly_arrest_rate object. A line plot is appropriate in this case \n",
    "# because you're showing how a quantity changes over time.\n",
    "# This plot should help you to spot some trends that may not have been obvious when examining the raw numbers!\n",
    "\n",
    "import matplotlib\n",
    "from matplotlib import pyplot as plt\n"
   ]
  },
  {
   "cell_type": "code",
   "execution_count": 20,
   "metadata": {},
   "outputs": [],
   "source": [
    "# Are drug-related stops on the rise?\n",
    "# Plotting drug-related stops\n",
    "\n",
    "# In a small portion of traffic stops, drugs are found in the vehicle during a search. In this exercise, you'll \n",
    "# assess whether these drug-related stops are becoming more common over time.\n",
    "\n",
    "# The Boolean column drugs_related_stop indicates whether drugs were found during a given stop. You'll calculate the \n",
    "# annual drug rate by resampling this column, and then you'll use a line plot to visualize how the rate has changed over time.\n",
    "\n",
    "# https://pandas.pydata.org/pandas-docs/stable/reference/api/pandas.DataFrame.resample.html\n",
    "\n",
    "\n"
   ]
  },
  {
   "cell_type": "code",
   "execution_count": 21,
   "metadata": {},
   "outputs": [],
   "source": [
    "# Comparing drug and search rates\n",
    "# As you saw in the last exercise, the rate of drug-related stops increased significantly between 2005 and 2015. \n",
    "# You might hypothesize that the rate of vehicle searches was also increasing, which would have led to an increase \n",
    "# in drug-related stops even if more drivers were not carrying drugs.\n",
    "\n",
    "# You can test this hypothesis by calculating the annual search rate, and then plotting it against the annual drug rate. \n",
    "# If the hypothesis is true, then you'll see both rates increasing over time.\n",
    "\n",
    "# Annual search rate\n",
    "\n"
   ]
  },
  {
   "cell_type": "code",
   "execution_count": 22,
   "metadata": {},
   "outputs": [],
   "source": [
    "# What violations are caught in each district?\n",
    "# The state of Rhode Island is broken into six police districts, also known as zones. \n",
    "# How do the zones compare in terms of what violations are caught by police?\n",
    "# hint - Try to do it using crosstab menthod. It can be done using pivot table method also.\n",
    "\n",
    "\n"
   ]
  },
  {
   "cell_type": "code",
   "execution_count": null,
   "metadata": {},
   "outputs": [],
   "source": []
  },
  {
   "cell_type": "code",
   "execution_count": 24,
   "metadata": {},
   "outputs": [],
   "source": [
    "# How long you stopped for different violations\n",
    "# df['stop_duration'] = df['stop_duration'].fillna('no details')\n",
    "# Create new field \"stop_minutes\" by stop_duration. Stop_duration is string type so based on below values in this field,\n",
    "# map the values in sop_minutes.\n",
    "'0-15 Min':8\n",
    "'16-30 Min':23\n",
    "'30+ Min':45\n",
    "'no details':0\n",
    "    \n",
    "# Analyze the stop minutes vs violation using appropriate graph.\n",
    "\n"
   ]
  },
  {
   "cell_type": "code",
   "execution_count": null,
   "metadata": {},
   "outputs": [],
   "source": []
  },
  {
   "cell_type": "markdown",
   "metadata": {},
   "source": [
    "# Analyzing the effect of weather on policing"
   ]
  },
  {
   "cell_type": "code",
   "execution_count": 26,
   "metadata": {},
   "outputs": [],
   "source": [
    "# Weather data set is provided by National centers for environmental information.\n",
    "\n",
    "# TAVG, TMAX, TMIN - Temprature\n",
    "# AWND, WSF2 - Wind speed\n",
    "# WT02 - WT22 - Bad weather conditions\n",
    "\n",
    "# Load the weather data\n",
    "\n",
    "# Before using any datset, it is good practice to explore the dataset and check values seems to be reasonable.\n",
    "# check the AWND(Average wind speed) and WSF2(Fastest 2 minute wind speed during any 2 mins period) columns - \n",
    "\n",
    "\n",
    "\n",
    "# ANother way to examine these values using box plot\n",
    "\n",
    "\n",
    "# check the fastest wind speed is greater than average speed for every single row. Take diff  and plot the histogram.\n",
    "# Is dataset trustworthy? How the distribution looks like?\n",
    "\n"
   ]
  },
  {
   "cell_type": "code",
   "execution_count": 27,
   "metadata": {},
   "outputs": [],
   "source": [
    "# Plot the 'TMIN','TAVG','TMAX' using box plot and drive the insight.\n"
   ]
  },
  {
   "cell_type": "code",
   "execution_count": 28,
   "metadata": {},
   "outputs": [],
   "source": [
    "# Plot the histogram of TMAX-TMIN and see how the distribution looks like?\n",
    "\n",
    "\n"
   ]
  },
  {
   "cell_type": "code",
   "execution_count": null,
   "metadata": {},
   "outputs": [],
   "source": [
    "\n",
    "\n"
   ]
  },
  {
   "cell_type": "code",
   "execution_count": 30,
   "metadata": {},
   "outputs": [],
   "source": [
    "# Drive a new column stop_length from stop_duration based on beloe mapping.\n",
    "'0-15 Min':'short'\n",
    "'16-30 Min':'Medium'\n",
    "'30+ Min':'Long'\n",
    "\n",
    "# convert the stop_length column to category type\n"
   ]
  },
  {
   "cell_type": "code",
   "execution_count": 31,
   "metadata": {},
   "outputs": [],
   "source": [
    "# Counting bad weather conditions\n",
    "# The weather DataFrame contains 20 columns that start with 'WT', each of which represents a bad weather condition. For example:\n",
    "# WT05 indicates \"Hail\"\n",
    "# WT11 indicates \"High or damaging winds\"\n",
    "# WT17 indicates \"Freezing rain\"\n",
    "\n",
    "# For every row in the dataset, each WT column contains either a 1 (meaning the condition was present that day) \n",
    "# or NaN (meaning the condition was not present). In this exercise, you'll quantify \"how bad\" the weather was each day by \n",
    "# counting the number of 1 values in each row.\n",
    "\n",
    "# create the new dataframe of columns from WT01-WT22 and derive a new column \"bad_conditions\" in weather dataset. If any missing\n",
    "# value in bad_conditions then fill it with 0.\n",
    "\n",
    "# Plot the histogram of bad_conditions.\n",
    "\n",
    "\n"
   ]
  },
  {
   "cell_type": "code",
   "execution_count": 32,
   "metadata": {},
   "outputs": [],
   "source": [
    "# Rating the weather conditions\n",
    "# In the previous exercise, you counted the number of bad weather conditions each day. In this exercise, you'll use the counts to create a rating system for the weather.\n",
    "# The counts range from 0 to 9, and should be converted to ratings as follows:\n",
    "# Convert 0 to 'good'\n",
    "# Convert 1 through 4 to 'bad'\n",
    "# Convert 5 through 9 to 'worse'\n",
    "\n",
    "# Create a new column rating in weather dataset.\n",
    "\n",
    "\n",
    "# count the unique values of rating\n"
   ]
  },
  {
   "cell_type": "code",
   "execution_count": 33,
   "metadata": {},
   "outputs": [],
   "source": [
    "# Changing the data type to category\n",
    "# Since the rating column only has a few possible values, you'll change its data type to category in order to store the \n",
    "# data more efficiently. You'll also specify a logical order for the categories, which will be useful for future exercises.\n",
    "\n"
   ]
  },
  {
   "cell_type": "code",
   "execution_count": 577,
   "metadata": {},
   "outputs": [],
   "source": [
    "# df.reset_index(inplace=True)\n",
    "# df.head()\n",
    "\n",
    "# Preparing the new dataframe weather_rating from weather with two column 'DATE' and 'rating'.\n",
    "\n"
   ]
  },
  {
   "cell_type": "code",
   "execution_count": 34,
   "metadata": {},
   "outputs": [],
   "source": [
    "weather_rating.head()"
   ]
  },
  {
   "cell_type": "code",
   "execution_count": 35,
   "metadata": {},
   "outputs": [],
   "source": [
    "# Merge the weather and police dataset based on date and sop_date and set the index to stop_date_time.\n",
    "\n"
   ]
  },
  {
   "cell_type": "code",
   "execution_count": 36,
   "metadata": {},
   "outputs": [],
   "source": [
    "# we investigated the relation between driver gender and vehicle searches.\n",
    "# Search rate\n",
    "\n",
    "# then we compared the male/female vs search conducted. We found that male drivers are searched more then female.\n",
    "# THen we add the violation with gender and analyze the search conducted. We found that acroos all violation, search rate\n",
    "# is higher for male than female.\n",
    "# This study tells the correlation between gender and search conducted.\n",
    "\n",
    "\n",
    "# Does weahter affect the arrest rate?\n",
    "# Comparing arrest rates by weather rating\n",
    "\n",
    "# Do police officers arrest drivers more often when the weather is bad? Find out below!\n",
    "\n",
    "# Calculate the overall arrest rate\n",
    "\n",
    "\n",
    "# calculate the arrest rate for each of the weather ratings you previously assigned.\n",
    "\n",
    "\n",
    "# calculate the dataframe arrest_rate for each of the weather ratings you previously assigned with Violation.\n"
   ]
  },
  {
   "cell_type": "code",
   "execution_count": 37,
   "metadata": {},
   "outputs": [],
   "source": [
    "# Selecting from a multi-indexed Series\n",
    "# The output of a single .groupby() operation on multiple columns is a Series with a MultiIndex. Working with this type of\n",
    "# object is similar to working with a DataFrame:\n",
    "# The outer index level is like the DataFrame rows.\n",
    "# The inner index level is like the DataFrame columns.\n",
    "\n",
    "\n",
    "# Print the arrest_rate for moving violations in bad weather.\n"
   ]
  },
  {
   "cell_type": "code",
   "execution_count": 39,
   "metadata": {},
   "outputs": [],
   "source": [
    "# Reshaping the arrest rate data\n",
    "type(arrest_rate)\n",
    "\n",
    "# In this exercise, you'll start by reshaping the arrest_rate Series into a DataFrame. \n",
    "# This is a useful step when working with any multi-indexed Series, since it enables you to access the full range of \n",
    "# DataFrame methods.\n",
    "\n",
    "# Then, you'll create the exact same DataFrame using a pivot table. This is a great example of how pandas often \n",
    "# gives you more than one way to reach the same result!\n",
    "\n",
    "# Unstack the arrest_rate Series to reshape it into a DataFrame.\n",
    "\n",
    "# Alternate method to create dataframe by pivot table.\n"
   ]
  },
  {
   "cell_type": "code",
   "execution_count": null,
   "metadata": {},
   "outputs": [],
   "source": []
  }
 ],
 "metadata": {
  "celltoolbar": "Raw Cell Format",
  "kernelspec": {
   "display_name": "Python 3",
   "language": "python",
   "name": "python3"
  },
  "language_info": {
   "codemirror_mode": {
    "name": "ipython",
    "version": 3
   },
   "file_extension": ".py",
   "mimetype": "text/x-python",
   "name": "python",
   "nbconvert_exporter": "python",
   "pygments_lexer": "ipython3",
   "version": "3.7.3"
  }
 },
 "nbformat": 4,
 "nbformat_minor": 2
}
